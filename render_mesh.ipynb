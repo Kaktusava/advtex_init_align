{
 "cells": [
  {
   "cell_type": "code",
   "execution_count": 1,
   "metadata": {},
   "outputs": [],
   "source": [
    "import os\n",
    "os.environ['PYOPENGL_PLATFORM'] = 'egl'\n",
    "import os\n",
    "import open3d as o3d\n",
    "import numpy as np\n",
    "import matplotlib.pyplot as plt"
   ]
  },
  {
   "cell_type": "code",
   "execution_count": 2,
   "metadata": {},
   "outputs": [
    {
     "data": {
      "text/plain": [
       "'0.16.1+61276a05'"
      ]
     },
     "execution_count": 2,
     "metadata": {},
     "output_type": "execute_result"
    }
   ],
   "source": [
    "o3d.__version__"
   ]
  },
  {
   "cell_type": "code",
   "execution_count": 2,
   "metadata": {},
   "outputs": [
    {
     "data": {
      "text/plain": [
       "4.571859577896067"
      ]
     },
     "execution_count": 2,
     "metadata": {},
     "output_type": "execute_result"
    }
   ],
   "source": [
    "(4.7**2-1.09**2)**(1/2)"
   ]
  },
  {
   "cell_type": "code",
   "execution_count": 3,
   "metadata": {},
   "outputs": [
    {
     "data": {
      "text/plain": [
       "1.0736852425175638"
      ]
     },
     "execution_count": 3,
     "metadata": {},
     "output_type": "execute_result"
    }
   ],
   "source": [
    "(1.53**2-1.09**2)**(1/2)"
   ]
  },
  {
   "cell_type": "code",
   "execution_count": 4,
   "metadata": {},
   "outputs": [
    {
     "data": {
      "text/plain": [
       "(2.799456599110794e-16+4.571859577896067j)"
      ]
     },
     "execution_count": 4,
     "metadata": {},
     "output_type": "execute_result"
    }
   ],
   "source": [
    "(1.09**2-4.7**2)**(1/2)"
   ]
  },
  {
   "cell_type": "code",
   "execution_count": 3,
   "metadata": {},
   "outputs": [],
   "source": [
    "intrinsic = np.array([[790.3578186 ,   0.        , 364.2981863 ],\n",
    "                      [  0.        , 790.35787582, 472.93979645],\n",
    "                      [  0.        ,   0.        ,   1.        ]])\n",
    "extrisic = np.array([[ 0.00302267,  0.7469503 , -0.6648731 , -0.07202526],\n",
    "                     [ 0.9999116 , -0.01087168, -0.00766794,  0.02143548],\n",
    "                     [-0.01295585, -0.66479117, -0.74691695, -0.15440787],\n",
    "                     [ 0.        ,  0.        ,  0.        ,  1.        ]],)"
   ]
  },
  {
   "cell_type": "code",
   "execution_count": 4,
   "metadata": {},
   "outputs": [
    {
     "data": {
      "text/plain": [
       "945.8795929"
      ]
     },
     "execution_count": 4,
     "metadata": {},
     "output_type": "execute_result"
    }
   ],
   "source": [
    "472.93979645*2"
   ]
  },
  {
   "cell_type": "code",
   "execution_count": 6,
   "metadata": {},
   "outputs": [
    {
     "data": {
      "text/plain": [
       "Visualizer with name Open3D"
      ]
     },
     "execution_count": 6,
     "metadata": {},
     "output_type": "execute_result"
    }
   ],
   "source": [
    "o3d.visualization.Visualizer()"
   ]
  },
  {
   "cell_type": "code",
   "execution_count": 3,
   "metadata": {},
   "outputs": [
    {
     "name": "stdout",
     "output_type": "stream",
     "text": [
      "Open3D was not compiled with BUILD_GUI, but script is importing open3d.visualization.rendering\n"
     ]
    }
   ],
   "source": [
    "import open3d as o3d\n",
    "import open3d.visualization.rendering as rendering"
   ]
  },
  {
   "cell_type": "code",
   "execution_count": 4,
   "metadata": {},
   "outputs": [
    {
     "data": {
      "text/plain": [
       "<module 'open3d.visualization.rendering' from '/miniconda/envs/py310/lib/python3.10/site-packages/open3d/visualization/rendering/__init__.py'>"
      ]
     },
     "execution_count": 4,
     "metadata": {},
     "output_type": "execute_result"
    }
   ],
   "source": [
    "o3d.visualization.rendering"
   ]
  },
  {
   "cell_type": "code",
   "execution_count": 9,
   "metadata": {},
   "outputs": [
    {
     "ename": "NameError",
     "evalue": "name 'open3d' is not defined",
     "output_type": "error",
     "traceback": [
      "\u001b[0;31m---------------------------------------------------------------------------\u001b[0m",
      "\u001b[0;31mNameError\u001b[0m                                 Traceback (most recent call last)",
      "\u001b[1;32m/workspace/advtex_init_align/render_mesh.ipynb Cell 8\u001b[0m in \u001b[0;36m1\n\u001b[0;32m----> <a href='vscode-notebook-cell://attached-container%2B7b22636f6e7461696e65724e616d65223a222f67616c5f6f33645f736b3364222c2273657474696e6773223a7b22636f6e74657874223a226879706572696f6e227d2c22637764223a225c5c5c5c77736c2e6c6f63616c686f73745c5c5562756e74755c5c227d/workspace/advtex_init_align/render_mesh.ipynb#X10sdnNjb2RlLXJlbW90ZQ%3D%3D?line=0'>1</a>\u001b[0m open3d\u001b[39m.\u001b[39m__DEVICE_API__\n",
      "\u001b[0;31mNameError\u001b[0m: name 'open3d' is not defined"
     ]
    }
   ],
   "source": [
    " open3d.__DEVICE_API__"
   ]
  },
  {
   "cell_type": "code",
   "execution_count": 6,
   "metadata": {},
   "outputs": [
    {
     "ename": "AttributeError",
     "evalue": "module 'open3d.visualization.rendering' has no attribute 'OffscreenRenderer'",
     "output_type": "error",
     "traceback": [
      "\u001b[0;31m---------------------------------------------------------------------------\u001b[0m",
      "\u001b[0;31mAttributeError\u001b[0m                            Traceback (most recent call last)",
      "\u001b[1;32m/workspace/advtex_init_align/render_mesh.ipynb Cell 9\u001b[0m in \u001b[0;36m6\n\u001b[1;32m      <a href='vscode-notebook-cell://attached-container%2B7b22636f6e7461696e65724e616d65223a222f67616c5f6f33645f736b3364222c2273657474696e6773223a7b22636f6e74657874223a226879706572696f6e227d2c22637764223a225c5c5c5c77736c2e6c6f63616c686f73745c5c5562756e74755c5c227d/workspace/advtex_init_align/render_mesh.ipynb#X11sdnNjb2RlLXJlbW90ZQ%3D%3D?line=1'>2</a>\u001b[0m \u001b[39mimport\u001b[39;00m \u001b[39mopen3d\u001b[39;00m\u001b[39m.\u001b[39;00m\u001b[39mvisualization\u001b[39;00m\u001b[39m.\u001b[39;00m\u001b[39mrendering\u001b[39;00m \u001b[39mas\u001b[39;00m \u001b[39mrendering\u001b[39;00m\n\u001b[1;32m      <a href='vscode-notebook-cell://attached-container%2B7b22636f6e7461696e65724e616d65223a222f67616c5f6f33645f736b3364222c2273657474696e6773223a7b22636f6e74657874223a226879706572696f6e227d2c22637764223a225c5c5c5c77736c2e6c6f63616c686f73745c5c5562756e74755c5c227d/workspace/advtex_init_align/render_mesh.ipynb#X11sdnNjb2RlLXJlbW90ZQ%3D%3D?line=3'>4</a>\u001b[0m model \u001b[39m=\u001b[39m o3d\u001b[39m.\u001b[39mio\u001b[39m.\u001b[39mread_triangle_mesh(\u001b[39m\"\u001b[39m\u001b[39m/workspace/advtex_init_align/dataset/extracted/scene_04/mesh.ply\u001b[39m\u001b[39m\"\u001b[39m)\n\u001b[0;32m----> <a href='vscode-notebook-cell://attached-container%2B7b22636f6e7461696e65724e616d65223a222f67616c5f6f33645f736b3364222c2273657474696e6773223a7b22636f6e74657874223a226879706572696f6e227d2c22637764223a225c5c5c5c77736c2e6c6f63616c686f73745c5c5562756e74755c5c227d/workspace/advtex_init_align/render_mesh.ipynb#X11sdnNjb2RlLXJlbW90ZQ%3D%3D?line=5'>6</a>\u001b[0m render \u001b[39m=\u001b[39m rendering\u001b[39m.\u001b[39;49mOffscreenRenderer(\u001b[39m960\u001b[39m,\u001b[39m720\u001b[39m)\n\u001b[1;32m      <a href='vscode-notebook-cell://attached-container%2B7b22636f6e7461696e65724e616d65223a222f67616c5f6f33645f736b3364222c2273657474696e6773223a7b22636f6e74657874223a226879706572696f6e227d2c22637764223a225c5c5c5c77736c2e6c6f63616c686f73745c5c5562756e74755c5c227d/workspace/advtex_init_align/render_mesh.ipynb#X11sdnNjb2RlLXJlbW90ZQ%3D%3D?line=6'>7</a>\u001b[0m \u001b[39m# render = o3d.visualization.Visualizer()\u001b[39;00m\n\u001b[1;32m      <a href='vscode-notebook-cell://attached-container%2B7b22636f6e7461696e65724e616d65223a222f67616c5f6f33645f736b3364222c2273657474696e6773223a7b22636f6e74657874223a226879706572696f6e227d2c22637764223a225c5c5c5c77736c2e6c6f63616c686f73745c5c5562756e74755c5c227d/workspace/advtex_init_align/render_mesh.ipynb#X11sdnNjb2RlLXJlbW90ZQ%3D%3D?line=7'>8</a>\u001b[0m render\u001b[39m.\u001b[39mscene\u001b[39m.\u001b[39madd_model(\u001b[39m\"\u001b[39m\u001b[39mmodel\u001b[39m\u001b[39m\"\u001b[39m,model)\n",
      "\u001b[0;31mAttributeError\u001b[0m: module 'open3d.visualization.rendering' has no attribute 'OffscreenRenderer'"
     ]
    }
   ],
   "source": [
    "import open3d as o3d\n",
    "import open3d.visualization.rendering as rendering\n",
    "\n",
    "model = o3d.io.read_triangle_mesh(\"/workspace/advtex_init_align/dataset/extracted/scene_04/mesh.ply\")\n",
    "\n",
    "render = rendering.OffscreenRenderer(960,720)\n",
    "# render = o3d.visualization.Visualizer()\n",
    "render.scene.add_model(\"model\",model)\n",
    "render.scene.scene.set_sun_light([0.707, 0.0, -0.707], [1.0, 1.0, 1.0], 75000)\n",
    "render.scene.scene.enable_sun_light(True)\n",
    "# render.setup_camera(40.0, [0, 0.5 0], [1, 0.75, 1.75], [0, 1, 0])\n",
    "render.setup_camera(intrinsic, extrisic, 960, 720)\n",
    "img = render.renter_to_image()\n",
    "o3d.io.write_image(\"test.png\", img, 9)"
   ]
  },
  {
   "cell_type": "code",
   "execution_count": null,
   "metadata": {},
   "outputs": [],
   "source": [
    "import os\n",
    "import open3d as o3d\n",
    "import numpy as np\n",
    "import matplotlib.pyplot as plt\n",
    "\n",
    "\n",
    "def custom_draw_geometry_with_camera_trajectory(pcd, camera_trajectory_path,\n",
    "                                                render_option_path,\n",
    "                                                output_path):\n",
    "    custom_draw_geometry_with_camera_trajectory.index = -1\n",
    "    custom_draw_geometry_with_camera_trajectory.trajectory =\\\n",
    "        o3d.io.read_pinhole_camera_trajectory(camera_trajectory_path)\n",
    "    custom_draw_geometry_with_camera_trajectory.vis = o3d.visualization.Visualizer()\n",
    "    image_path = os.path.join(output_path, 'image')\n",
    "    if not os.path.exists(image_path):\n",
    "        os.makedirs(image_path)\n",
    "    depth_path = os.path.join(output_path, 'depth')\n",
    "    if not os.path.exists(depth_path):\n",
    "        os.makedirs(depth_path)\n",
    "\n",
    "    print(\"Saving color images in \" + image_path)\n",
    "    print(\"Saving depth images in \" + depth_path)\n",
    "\n",
    "    def move_forward(vis):\n",
    "        # This function is called within the o3d.visualization.Visualizer::run() loop\n",
    "        # The run loop calls the function, then re-render\n",
    "        # So the sequence in this function is to:\n",
    "        # 1. Capture frame\n",
    "        # 2. index++, check ending criteria\n",
    "        # 3. Set camera\n",
    "        # 4. (Re-render)\n",
    "        ctr = vis.get_view_control()\n",
    "        glb = custom_draw_geometry_with_camera_trajectory\n",
    "        if glb.index >= 0:\n",
    "            print(\"Capture image {:05d}\".format(glb.index))\n",
    "            # Capture and save image using Open3D.\n",
    "            vis.capture_depth_image(\n",
    "                os.path.join(depth_path, \"{:05d}.png\".format(glb.index)), False)\n",
    "            vis.capture_screen_image(\n",
    "                os.path.join(image_path, \"{:05d}.png\".format(glb.index)), False)\n",
    "\n",
    "            # Example to save image using matplotlib.\n",
    "            '''\n",
    "            depth = vis.capture_depth_float_buffer()\n",
    "            image = vis.capture_screen_float_buffer()\n",
    "            plt.imsave(os.path.join(depth_path, \"{:05d}.png\".format(glb.index)),\n",
    "                       np.asarray(depth),\n",
    "                       dpi=1)\n",
    "            plt.imsave(os.path.join(image_path, \"{:05d}.png\".format(glb.index)),\n",
    "                       np.asarray(image),\n",
    "                       dpi=1)\n",
    "            '''\n",
    "\n",
    "        glb.index = glb.index + 1\n",
    "        if glb.index < len(glb.trajectory.parameters):\n",
    "            ctr.convert_from_pinhole_camera_parameters(\n",
    "                glb.trajectory.parameters[glb.index])\n",
    "        else:\n",
    "            custom_draw_geometry_with_camera_trajectory.vis.destroy_window()\n",
    "\n",
    "        # Return false as we don't need to call UpdateGeometry()\n",
    "        return False\n",
    "\n",
    "    vis = custom_draw_geometry_with_camera_trajectory.vis\n",
    "    vis.create_window()\n",
    "    vis.add_geometry(pcd)\n",
    "    vis.get_render_option().load_from_json(render_option_path)\n",
    "    vis.register_animation_callback(move_forward)\n",
    "    vis.run()\n",
    "\n",
    "\n",
    "if __name__ == \"__main__\":\n",
    "    if not o3d._build_config['ENABLE_HEADLESS_RENDERING']:\n",
    "        print(\"Headless rendering is not enabled. \"\n",
    "              \"Please rebuild Open3D with ENABLE_HEADLESS_RENDERING=ON\")\n",
    "        exit(1)\n",
    "\n",
    "    sample_data = o3d.data.DemoCustomVisualization()\n",
    "    pcd = o3d.io.read_point_cloud(sample_data.point_cloud_path)\n",
    "    print(\"Customized visualization playing a camera trajectory. \"\n",
    "          \"Press ctrl+z to terminate.\")\n",
    "    custom_draw_geometry_with_camera_trajectory(\n",
    "        pcd, sample_data.camera_trajectory_path, sample_data.render_option_path,\n",
    "        'HeadlessRenderingOutput')"
   ]
  }
 ],
 "metadata": {
  "kernelspec": {
   "display_name": "py310",
   "language": "python",
   "name": "python3"
  },
  "language_info": {
   "codemirror_mode": {
    "name": "ipython",
    "version": 3
   },
   "file_extension": ".py",
   "mimetype": "text/x-python",
   "name": "python",
   "nbconvert_exporter": "python",
   "pygments_lexer": "ipython3",
   "version": "3.8.16"
  },
  "orig_nbformat": 4
 },
 "nbformat": 4,
 "nbformat_minor": 2
}
